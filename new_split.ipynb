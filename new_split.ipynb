{
 "cells": [
  {
   "cell_type": "code",
   "execution_count": 11,
   "metadata": {},
   "outputs": [],
   "source": [
    "import nibabel as nib\n",
    "import nibabel.imagestats as stats\n",
    "import pandas as pd\n",
    "from pathlib import Path\n",
    "import os\n",
    "\n",
    "# infer participant home folder\n",
    "home = str(Path.home())\n",
    "pd.options.plotting.backend = 'hvplot'\n",
    "\n",
    "data_path = os.path.join(home,'Downloads/MICCAI_FeTS2022_TrainingData')"
   ]
  },
  {
   "cell_type": "code",
   "execution_count": 2,
   "metadata": {},
   "outputs": [
    {
     "data": {
      "text/plain": [
       "'/Downloads/MICCAI_FeTS2022_TrainingData/'"
      ]
     },
     "execution_count": 2,
     "metadata": {},
     "output_type": "execute_result"
    }
   ],
   "source": [
    "data_path"
   ]
  },
  {
   "cell_type": "code",
   "execution_count": 12,
   "metadata": {},
   "outputs": [],
   "source": [
    "# Read or create the volume series describing the area of each tumour\n",
    "# Scans have all been resized to 1x1x1 spacing so counting voxels is enough\n",
    "# Further refinement can be made by measuring only the core tumour area,\n",
    "# or different morphological statistics alltogether\n",
    "\n",
    "if os.path.isfile(f\"{data_path}/volume_file.csv\"):\n",
    "    df = pd.read_csv(f\"{data_path}/volume_file.csv\")\n",
    "else:\n",
    "    df = pd.read_csv(f\"{data_path}/partitioning_1.csv\")\n",
    "    df['Volume'] = df.apply(lambda x: stats.count_nonzero_voxels(nib.load(\n",
    "        data_path+f\"{x['Subject_ID']}/{x['Subject_ID']}_seg.nii.gz\")), axis=1)\n",
    "\n",
    "    df.to_csv(f\"{data_path}/volume_file.csv\",index=False)"
   ]
  },
  {
   "cell_type": "code",
   "execution_count": 13,
   "metadata": {},
   "outputs": [],
   "source": [
    "# add a column describing the original artificial split by the organizers\n",
    "df['org_split'] = pd.read_csv(f\"{data_path}/partitioning_2.csv\")['Partition_ID']"
   ]
  },
  {
   "cell_type": "code",
   "execution_count": 29,
   "metadata": {},
   "outputs": [
    {
     "data": {},
     "metadata": {},
     "output_type": "display_data"
    },
    {
     "data": {
      "application/vnd.holoviews_exec.v0+json": "",
      "text/html": [
       "<div id='1984'>\n",
       "  <div class=\"bk-root\" id=\"a24c9d52-2cfa-49f1-87e4-7e303887589a\" data-root-id=\"1984\"></div>\n",
       "</div>\n",
       "<script type=\"application/javascript\">(function(root) {\n",
       "  function embed_document(root) {\n",
       "    var docs_json = {\"0fc977e5-7f81-416b-8476-cbe7c12b15cb\":{\"defs\":[{\"extends\":null,\"module\":null,\"name\":\"ReactiveHTML1\",\"overrides\":[],\"properties\":[]},{\"extends\":null,\"module\":null,\"name\":\"FlexBox1\",\"overrides\":[],\"properties\":[{\"default\":\"flex-start\",\"kind\":null,\"name\":\"align_content\"},{\"default\":\"flex-start\",\"kind\":null,\"name\":\"align_items\"},{\"default\":\"row\",\"kind\":null,\"name\":\"flex_direction\"},{\"default\":\"wrap\",\"kind\":null,\"name\":\"flex_wrap\"},{\"default\":\"flex-start\",\"kind\":null,\"name\":\"justify_content\"}]},{\"extends\":null,\"module\":null,\"name\":\"GridStack1\",\"overrides\":[],\"properties\":[{\"default\":\"warn\",\"kind\":null,\"name\":\"mode\"},{\"default\":null,\"kind\":null,\"name\":\"ncols\"},{\"default\":null,\"kind\":null,\"name\":\"nrows\"},{\"default\":true,\"kind\":null,\"name\":\"allow_resize\"},{\"default\":true,\"kind\":null,\"name\":\"allow_drag\"},{\"default\":[],\"kind\":null,\"name\":\"state\"}]},{\"extends\":null,\"module\":null,\"name\":\"click1\",\"overrides\":[],\"properties\":[{\"default\":\"\",\"kind\":null,\"name\":\"terminal_output\"},{\"default\":\"\",\"kind\":null,\"name\":\"debug_name\"},{\"default\":0,\"kind\":null,\"name\":\"clears\"}]},{\"extends\":null,\"module\":null,\"name\":\"NotificationAreaBase1\",\"overrides\":[],\"properties\":[{\"default\":\"bottom-right\",\"kind\":null,\"name\":\"position\"},{\"default\":0,\"kind\":null,\"name\":\"_clear\"}]},{\"extends\":null,\"module\":null,\"name\":\"NotificationArea1\",\"overrides\":[],\"properties\":[{\"default\":[],\"kind\":null,\"name\":\"notifications\"},{\"default\":\"bottom-right\",\"kind\":null,\"name\":\"position\"},{\"default\":0,\"kind\":null,\"name\":\"_clear\"},{\"default\":[{\"background\":\"#ffc107\",\"icon\":{\"className\":\"fas fa-exclamation-triangle\",\"color\":\"white\",\"tagName\":\"i\"},\"type\":\"warning\"},{\"background\":\"#007bff\",\"icon\":{\"className\":\"fas fa-info-circle\",\"color\":\"white\",\"tagName\":\"i\"},\"type\":\"info\"}],\"kind\":null,\"name\":\"types\"}]},{\"extends\":null,\"module\":null,\"name\":\"Notification\",\"overrides\":[],\"properties\":[{\"default\":null,\"kind\":null,\"name\":\"background\"},{\"default\":3000,\"kind\":null,\"name\":\"duration\"},{\"default\":null,\"kind\":null,\"name\":\"icon\"},{\"default\":\"\",\"kind\":null,\"name\":\"message\"},{\"default\":null,\"kind\":null,\"name\":\"notification_type\"},{\"default\":false,\"kind\":null,\"name\":\"_destroyed\"}]},{\"extends\":null,\"module\":null,\"name\":\"TemplateActions1\",\"overrides\":[],\"properties\":[{\"default\":0,\"kind\":null,\"name\":\"open_modal\"},{\"default\":0,\"kind\":null,\"name\":\"close_modal\"}]},{\"extends\":null,\"module\":null,\"name\":\"MaterialTemplateActions1\",\"overrides\":[],\"properties\":[{\"default\":0,\"kind\":null,\"name\":\"open_modal\"},{\"default\":0,\"kind\":null,\"name\":\"close_modal\"}]}],\"roots\":{\"references\":[{\"attributes\":{\"coordinates\":null,\"data_source\":{\"id\":\"2018\"},\"glyph\":{\"id\":\"2021\"},\"group\":null,\"hover_glyph\":null,\"muted_glyph\":{\"id\":\"2023\"},\"nonselection_glyph\":{\"id\":\"2022\"},\"selection_glyph\":{\"id\":\"2026\"},\"view\":{\"id\":\"2025\"}},\"id\":\"2024\",\"type\":\"GlyphRenderer\"},{\"attributes\":{\"axis\":{\"id\":\"2001\"},\"coordinates\":null,\"dimension\":1,\"grid_line_color\":null,\"group\":null,\"ticker\":null},\"id\":\"2004\",\"type\":\"Grid\"},{\"attributes\":{},\"id\":\"2029\",\"type\":\"AllLabels\"},{\"attributes\":{},\"id\":\"2002\",\"type\":\"BasicTicker\"},{\"attributes\":{\"fill_color\":{\"value\":\"#30a2da\"},\"hatch_color\":{\"value\":\"#30a2da\"},\"top\":{\"field\":\"A_0\"},\"width\":{\"value\":0.8},\"x\":{\"field\":\"org_split\"}},\"id\":\"2021\",\"type\":\"VBar\"},{\"attributes\":{},\"id\":\"1996\",\"type\":\"LinearScale\"},{\"attributes\":{\"source\":{\"id\":\"2018\"}},\"id\":\"2025\",\"type\":\"CDSView\"},{\"attributes\":{\"tools\":[{\"id\":\"1988\"},{\"id\":\"2005\"},{\"id\":\"2006\"},{\"id\":\"2007\"},{\"id\":\"2008\"},{\"id\":\"2009\"}]},\"id\":\"2011\",\"type\":\"Toolbar\"},{\"attributes\":{},\"id\":\"2006\",\"type\":\"PanTool\"},{\"attributes\":{},\"id\":\"2032\",\"type\":\"AllLabels\"},{\"attributes\":{\"axis\":{\"id\":\"1998\"},\"coordinates\":null,\"grid_line_color\":null,\"group\":null,\"ticker\":null},\"id\":\"2000\",\"type\":\"Grid\"},{\"attributes\":{\"axis_label\":\"Patients\",\"coordinates\":null,\"formatter\":{\"id\":\"2031\"},\"group\":null,\"major_label_policy\":{\"id\":\"2032\"},\"ticker\":{\"id\":\"2002\"}},\"id\":\"2001\",\"type\":\"LinearAxis\"},{\"attributes\":{\"bottom_units\":\"screen\",\"coordinates\":null,\"fill_alpha\":0.5,\"fill_color\":\"lightgrey\",\"group\":null,\"left_units\":\"screen\",\"level\":\"overlay\",\"line_alpha\":1.0,\"line_color\":\"black\",\"line_dash\":[4,4],\"line_width\":2,\"right_units\":\"screen\",\"syncable\":false,\"top_units\":\"screen\"},\"id\":\"2010\",\"type\":\"BoxAnnotation\"},{\"attributes\":{\"overlay\":{\"id\":\"2010\"}},\"id\":\"2008\",\"type\":\"BoxZoomTool\"},{\"attributes\":{\"data\":{\"A_0\":[170,170,171,6,15,16,15,16,22,34,12,8,4,8,14,11,12,11,12,6,13,30,9,127,127,128,4,33,12,11,12,7,5],\"org_split\":[\"1\",\"2\",\"3\",\"4\",\"5\",\"6\",\"7\",\"8\",\"9\",\"10\",\"11\",\"12\",\"13\",\"14\",\"15\",\"16\",\"17\",\"18\",\"19\",\"20\",\"21\",\"22\",\"23\",\"24\",\"25\",\"26\",\"27\",\"28\",\"29\",\"30\",\"31\",\"32\",\"33\"]},\"selected\":{\"id\":\"2019\"},\"selection_policy\":{\"id\":\"2040\"}},\"id\":\"2018\",\"type\":\"ColumnDataSource\"},{\"attributes\":{\"bottom\":{\"value\":0},\"fill_alpha\":{\"value\":1},\"fill_color\":{\"value\":\"#30a2da\"},\"hatch_alpha\":{\"value\":1.0},\"hatch_color\":{\"value\":\"#30a2da\"},\"hatch_scale\":{\"value\":12.0},\"hatch_weight\":{\"value\":1.0},\"line_alpha\":{\"value\":1},\"line_cap\":{\"value\":\"butt\"},\"line_color\":{\"value\":\"black\"},\"line_dash\":{\"value\":[]},\"line_dash_offset\":{\"value\":0},\"line_join\":{\"value\":\"bevel\"},\"line_width\":{\"value\":1},\"top\":{\"field\":\"A_0\"},\"width\":{\"value\":0.8},\"x\":{\"field\":\"org_split\"}},\"id\":\"2026\",\"type\":\"VBar\"},{\"attributes\":{},\"id\":\"2007\",\"type\":\"WheelZoomTool\"},{\"attributes\":{},\"id\":\"2031\",\"type\":\"BasicTickFormatter\"},{\"attributes\":{\"children\":[{\"id\":\"1985\"},{\"id\":\"1989\"},{\"id\":\"2043\"}],\"margin\":[0,0,0,0],\"name\":\"Row07123\",\"tags\":[\"embedded\"]},\"id\":\"1984\",\"type\":\"Row\"},{\"attributes\":{},\"id\":\"2005\",\"type\":\"SaveTool\"},{\"attributes\":{},\"id\":\"2009\",\"type\":\"ResetTool\"},{\"attributes\":{},\"id\":\"1994\",\"type\":\"CategoricalScale\"},{\"attributes\":{\"fill_alpha\":{\"value\":0.2},\"fill_color\":{\"value\":\"#30a2da\"},\"hatch_alpha\":{\"value\":0.2},\"hatch_color\":{\"value\":\"#30a2da\"},\"line_alpha\":{\"value\":0.2},\"top\":{\"field\":\"A_0\"},\"width\":{\"value\":0.8},\"x\":{\"field\":\"org_split\"}},\"id\":\"2023\",\"type\":\"VBar\"},{\"attributes\":{\"margin\":[5,5,5,5],\"name\":\"HSpacer07127\",\"sizing_mode\":\"stretch_width\"},\"id\":\"1985\",\"type\":\"Spacer\"},{\"attributes\":{\"end\":187.7,\"reset_end\":187.7,\"reset_start\":0.0,\"tags\":[[[\"0\",\"0\",null]]]},\"id\":\"1987\",\"type\":\"Range1d\"},{\"attributes\":{},\"id\":\"1999\",\"type\":\"CategoricalTicker\"},{\"attributes\":{\"factors\":[\"1\",\"2\",\"3\",\"4\",\"5\",\"6\",\"7\",\"8\",\"9\",\"10\",\"11\",\"12\",\"13\",\"14\",\"15\",\"16\",\"17\",\"18\",\"19\",\"20\",\"21\",\"22\",\"23\",\"24\",\"25\",\"26\",\"27\",\"28\",\"29\",\"30\",\"31\",\"32\",\"33\"],\"tags\":[[[\"org_split\",\"org_split\",null]]]},\"id\":\"1986\",\"type\":\"FactorRange\"},{\"attributes\":{},\"id\":\"2028\",\"type\":\"CategoricalTickFormatter\"},{\"attributes\":{},\"id\":\"2040\",\"type\":\"UnionRenderers\"},{\"attributes\":{\"margin\":[5,5,5,5],\"name\":\"HSpacer07128\",\"sizing_mode\":\"stretch_width\"},\"id\":\"2043\",\"type\":\"Spacer\"},{\"attributes\":{\"below\":[{\"id\":\"1998\"}],\"center\":[{\"id\":\"2000\"},{\"id\":\"2004\"}],\"height\":300,\"left\":[{\"id\":\"2001\"}],\"margin\":[5,5,5,5],\"min_border_bottom\":10,\"min_border_left\":10,\"min_border_right\":10,\"min_border_top\":10,\"renderers\":[{\"id\":\"2024\"}],\"sizing_mode\":\"fixed\",\"title\":{\"id\":\"1990\"},\"toolbar\":{\"id\":\"2011\"},\"width\":700,\"x_range\":{\"id\":\"1986\"},\"x_scale\":{\"id\":\"1994\"},\"y_range\":{\"id\":\"1987\"},\"y_scale\":{\"id\":\"1996\"}},\"id\":\"1989\",\"subtype\":\"Figure\",\"type\":\"Plot\"},{\"attributes\":{},\"id\":\"2019\",\"type\":\"Selection\"},{\"attributes\":{\"fill_alpha\":{\"value\":1},\"fill_color\":{\"value\":\"#30a2da\"},\"hatch_alpha\":{\"value\":0.1},\"hatch_color\":{\"value\":\"#30a2da\"},\"line_alpha\":{\"value\":1},\"top\":{\"field\":\"A_0\"},\"width\":{\"value\":0.8},\"x\":{\"field\":\"org_split\"}},\"id\":\"2022\",\"type\":\"VBar\"},{\"attributes\":{\"axis_label\":\"Original Artificial Split\",\"coordinates\":null,\"formatter\":{\"id\":\"2028\"},\"group\":null,\"major_label_policy\":{\"id\":\"2029\"},\"ticker\":{\"id\":\"1999\"}},\"id\":\"1998\",\"type\":\"CategoricalAxis\"},{\"attributes\":{\"callback\":null,\"renderers\":[{\"id\":\"2024\"}],\"tags\":[\"hv_created\"],\"tooltips\":[[\"org_split\",\"@{org_split}\"],[\"0\",\"@{A_0}\"]]},\"id\":\"1988\",\"type\":\"HoverTool\"},{\"attributes\":{\"coordinates\":null,\"group\":null,\"text\":\"0\",\"text_color\":\"black\",\"text_font_size\":\"12pt\"},\"id\":\"1990\",\"type\":\"Title\"}],\"root_ids\":[\"1984\"]},\"title\":\"Bokeh Application\",\"version\":\"2.4.3\"}};\n",
       "    var render_items = [{\"docid\":\"0fc977e5-7f81-416b-8476-cbe7c12b15cb\",\"root_ids\":[\"1984\"],\"roots\":{\"1984\":\"a24c9d52-2cfa-49f1-87e4-7e303887589a\"}}];\n",
       "    root.Bokeh.embed.embed_items_notebook(docs_json, render_items);\n",
       "  }\n",
       "  if (root.Bokeh !== undefined && root.Bokeh.Panel !== undefined) {\n",
       "    embed_document(root);\n",
       "  } else {\n",
       "    var attempts = 0;\n",
       "    var timer = setInterval(function(root) {\n",
       "      if (root.Bokeh !== undefined && root.Bokeh.Panel !== undefined) {\n",
       "        clearInterval(timer);\n",
       "        embed_document(root);\n",
       "      } else if (document.readyState == \"complete\") {\n",
       "        attempts++;\n",
       "        if (attempts > 200) {\n",
       "          clearInterval(timer);\n",
       "          console.log(\"Bokeh: ERROR: Unable to run BokehJS code because BokehJS library is missing\");\n",
       "        }\n",
       "      }\n",
       "    }, 25, root)\n",
       "  }\n",
       "})(window);</script>"
      ],
      "text/plain": [
       ":Bars   [org_split]   (0)"
      ]
     },
     "execution_count": 29,
     "metadata": {
      "application/vnd.holoviews_exec.v0+json": {
       "id": "1984"
      }
     },
     "output_type": "execute_result"
    }
   ],
   "source": [
    "# Overlay the natural and original artificial barplots\n",
    "# df.groupby('Partition_ID').size().plot(kind='bar', ylabel='Patients', alpha=1) \\\n",
    "df.groupby('org_split').size().plot(\n",
    "    kind='bar', \n",
    "    xlabel='Original Artificial Split', \n",
    "    ylabel='Patients', \n",
    "    alpha=1)"
   ]
  },
  {
   "cell_type": "code",
   "execution_count": 39,
   "metadata": {},
   "outputs": [
    {
     "data": {},
     "metadata": {},
     "output_type": "display_data"
    },
    {
     "data": {
      "application/vnd.holoviews_exec.v0+json": "",
      "text/html": [
       "<div id='3195'>\n",
       "  <div class=\"bk-root\" id=\"04e8f527-d3c3-4ea2-91e8-ba76b45697df\" data-root-id=\"3195\"></div>\n",
       "</div>\n",
       "<script type=\"application/javascript\">(function(root) {\n",
       "  function embed_document(root) {\n",
       "    var docs_json = {\"982399ce-88c6-4da3-84b1-da1032ec2a41\":{\"defs\":[{\"extends\":null,\"module\":null,\"name\":\"ReactiveHTML1\",\"overrides\":[],\"properties\":[]},{\"extends\":null,\"module\":null,\"name\":\"FlexBox1\",\"overrides\":[],\"properties\":[{\"default\":\"flex-start\",\"kind\":null,\"name\":\"align_content\"},{\"default\":\"flex-start\",\"kind\":null,\"name\":\"align_items\"},{\"default\":\"row\",\"kind\":null,\"name\":\"flex_direction\"},{\"default\":\"wrap\",\"kind\":null,\"name\":\"flex_wrap\"},{\"default\":\"flex-start\",\"kind\":null,\"name\":\"justify_content\"}]},{\"extends\":null,\"module\":null,\"name\":\"GridStack1\",\"overrides\":[],\"properties\":[{\"default\":\"warn\",\"kind\":null,\"name\":\"mode\"},{\"default\":null,\"kind\":null,\"name\":\"ncols\"},{\"default\":null,\"kind\":null,\"name\":\"nrows\"},{\"default\":true,\"kind\":null,\"name\":\"allow_resize\"},{\"default\":true,\"kind\":null,\"name\":\"allow_drag\"},{\"default\":[],\"kind\":null,\"name\":\"state\"}]},{\"extends\":null,\"module\":null,\"name\":\"click1\",\"overrides\":[],\"properties\":[{\"default\":\"\",\"kind\":null,\"name\":\"terminal_output\"},{\"default\":\"\",\"kind\":null,\"name\":\"debug_name\"},{\"default\":0,\"kind\":null,\"name\":\"clears\"}]},{\"extends\":null,\"module\":null,\"name\":\"NotificationAreaBase1\",\"overrides\":[],\"properties\":[{\"default\":\"bottom-right\",\"kind\":null,\"name\":\"position\"},{\"default\":0,\"kind\":null,\"name\":\"_clear\"}]},{\"extends\":null,\"module\":null,\"name\":\"NotificationArea1\",\"overrides\":[],\"properties\":[{\"default\":[],\"kind\":null,\"name\":\"notifications\"},{\"default\":\"bottom-right\",\"kind\":null,\"name\":\"position\"},{\"default\":0,\"kind\":null,\"name\":\"_clear\"},{\"default\":[{\"background\":\"#ffc107\",\"icon\":{\"className\":\"fas fa-exclamation-triangle\",\"color\":\"white\",\"tagName\":\"i\"},\"type\":\"warning\"},{\"background\":\"#007bff\",\"icon\":{\"className\":\"fas fa-info-circle\",\"color\":\"white\",\"tagName\":\"i\"},\"type\":\"info\"}],\"kind\":null,\"name\":\"types\"}]},{\"extends\":null,\"module\":null,\"name\":\"Notification\",\"overrides\":[],\"properties\":[{\"default\":null,\"kind\":null,\"name\":\"background\"},{\"default\":3000,\"kind\":null,\"name\":\"duration\"},{\"default\":null,\"kind\":null,\"name\":\"icon\"},{\"default\":\"\",\"kind\":null,\"name\":\"message\"},{\"default\":null,\"kind\":null,\"name\":\"notification_type\"},{\"default\":false,\"kind\":null,\"name\":\"_destroyed\"}]},{\"extends\":null,\"module\":null,\"name\":\"TemplateActions1\",\"overrides\":[],\"properties\":[{\"default\":0,\"kind\":null,\"name\":\"open_modal\"},{\"default\":0,\"kind\":null,\"name\":\"close_modal\"}]},{\"extends\":null,\"module\":null,\"name\":\"MaterialTemplateActions1\",\"overrides\":[],\"properties\":[{\"default\":0,\"kind\":null,\"name\":\"open_modal\"},{\"default\":0,\"kind\":null,\"name\":\"close_modal\"}]}],\"roots\":{\"references\":[{\"attributes\":{\"data\":{\"A_0\":[170,170,171,6,15,16,15,16,22,34,12,8,4,8,14,11,12,11,12,6,13,30,9,127,127,128,4,33,12,11,12,7,5],\"org_split\":[\"1\",\"2\",\"3\",\"4\",\"5\",\"6\",\"7\",\"8\",\"9\",\"10\",\"11\",\"12\",\"13\",\"14\",\"15\",\"16\",\"17\",\"18\",\"19\",\"20\",\"21\",\"22\",\"23\",\"24\",\"25\",\"26\",\"27\",\"28\",\"29\",\"30\",\"31\",\"32\",\"33\"]},\"selected\":{\"id\":\"3259\"},\"selection_policy\":{\"id\":\"3275\"}},\"id\":\"3258\",\"type\":\"ColumnDataSource\"},{\"attributes\":{},\"id\":\"3206\",\"type\":\"CategoricalScale\"},{\"attributes\":{\"coordinates\":null,\"data_source\":{\"id\":\"3258\"},\"glyph\":{\"id\":\"3261\"},\"group\":null,\"hover_glyph\":null,\"muted_glyph\":{\"id\":\"3263\"},\"nonselection_glyph\":{\"id\":\"3262\"},\"selection_glyph\":{\"id\":\"3278\"},\"view\":{\"id\":\"3265\"}},\"id\":\"3264\",\"type\":\"GlyphRenderer\"},{\"attributes\":{\"fill_alpha\":{\"value\":0.2},\"fill_color\":{\"value\":\"#30a2da\"},\"hatch_alpha\":{\"value\":0.2},\"hatch_color\":{\"value\":\"#30a2da\"},\"line_alpha\":{\"value\":0.2},\"top\":{\"field\":\"A_0\"},\"width\":{\"value\":0.8},\"x\":{\"field\":\"new_split\"}},\"id\":\"3242\",\"type\":\"VBar\"},{\"attributes\":{\"fill_alpha\":{\"value\":0.8},\"fill_color\":{\"value\":\"#30a2da\"},\"hatch_alpha\":{\"value\":0.8},\"hatch_color\":{\"value\":\"#30a2da\"},\"line_alpha\":{\"value\":0.8},\"top\":{\"field\":\"A_0\"},\"width\":{\"value\":0.8},\"x\":{\"field\":\"new_split\"}},\"id\":\"3240\",\"type\":\"VBar\"},{\"attributes\":{\"data\":{\"A_0\":[52,51,51,51,51,51,51,51,51,51,6,15,47,22,34,12,8,4,8,14,11,35,6,13,30,9,39,38,38,38,38,38,38,38,38,39,4,33,35,7,5],\"new_split\":[\"1\",\"2\",\"3\",\"4\",\"5\",\"6\",\"7\",\"8\",\"9\",\"10\",\"11\",\"12\",\"13\",\"14\",\"15\",\"16\",\"17\",\"18\",\"19\",\"20\",\"21\",\"22\",\"23\",\"24\",\"25\",\"26\",\"27\",\"28\",\"29\",\"30\",\"31\",\"32\",\"33\",\"34\",\"35\",\"36\",\"37\",\"38\",\"39\",\"40\",\"41\"]},\"selected\":{\"id\":\"3238\"},\"selection_policy\":{\"id\":\"3252\"}},\"id\":\"3237\",\"type\":\"ColumnDataSource\"},{\"attributes\":{},\"id\":\"3252\",\"type\":\"UnionRenderers\"},{\"attributes\":{},\"id\":\"3238\",\"type\":\"Selection\"},{\"attributes\":{},\"id\":\"3275\",\"type\":\"UnionRenderers\"},{\"attributes\":{\"margin\":[5,5,5,5],\"name\":\"HSpacer09403\",\"sizing_mode\":\"stretch_width\"},\"id\":\"3291\",\"type\":\"Spacer\"},{\"attributes\":{\"coordinates\":null,\"data_source\":{\"id\":\"3237\"},\"glyph\":{\"id\":\"3240\"},\"group\":null,\"hover_glyph\":null,\"muted_glyph\":{\"id\":\"3242\"},\"nonselection_glyph\":{\"id\":\"3241\"},\"selection_glyph\":{\"id\":\"3257\"},\"view\":{\"id\":\"3244\"}},\"id\":\"3243\",\"type\":\"GlyphRenderer\"},{\"attributes\":{\"source\":{\"id\":\"3258\"}},\"id\":\"3265\",\"type\":\"CDSView\"},{\"attributes\":{\"fill_alpha\":{\"value\":0.8},\"fill_color\":{\"value\":\"#fc4f30\"},\"hatch_alpha\":{\"value\":0.8},\"hatch_color\":{\"value\":\"#fc4f30\"},\"line_alpha\":{\"value\":0.8},\"top\":{\"field\":\"A_0\"},\"width\":{\"value\":0.8},\"x\":{\"field\":\"org_split\"}},\"id\":\"3261\",\"type\":\"VBar\"},{\"attributes\":{\"fill_alpha\":{\"value\":0.8},\"fill_color\":{\"value\":\"#fc4f30\"},\"hatch_alpha\":{\"value\":0.1},\"hatch_color\":{\"value\":\"#fc4f30\"},\"line_alpha\":{\"value\":0.8},\"top\":{\"field\":\"A_0\"},\"width\":{\"value\":0.8},\"x\":{\"field\":\"org_split\"}},\"id\":\"3262\",\"type\":\"VBar\"},{\"attributes\":{\"source\":{\"id\":\"3237\"}},\"id\":\"3244\",\"type\":\"CDSView\"},{\"attributes\":{\"fill_alpha\":{\"value\":0.8},\"fill_color\":{\"value\":\"#30a2da\"},\"hatch_alpha\":{\"value\":0.1},\"hatch_color\":{\"value\":\"#30a2da\"},\"line_alpha\":{\"value\":0.8},\"top\":{\"field\":\"A_0\"},\"width\":{\"value\":0.8},\"x\":{\"field\":\"new_split\"}},\"id\":\"3241\",\"type\":\"VBar\"},{\"attributes\":{},\"id\":\"3208\",\"type\":\"LinearScale\"},{\"attributes\":{},\"id\":\"3232\",\"type\":\"CategoricalTickFormatter\"},{\"attributes\":{\"label\":{\"value\":\"0\"},\"renderers\":[{\"id\":\"3243\"},{\"id\":\"3264\"}]},\"id\":\"3256\",\"type\":\"LegendItem\"},{\"attributes\":{\"click_policy\":\"mute\",\"coordinates\":null,\"group\":null,\"items\":[{\"id\":\"3256\"}],\"location\":[0,0]},\"id\":\"3255\",\"type\":\"Legend\"},{\"attributes\":{\"callback\":null,\"renderers\":[{\"id\":\"3243\"}],\"tags\":[\"hv_created\"],\"tooltips\":[[\"new_split\",\"@{new_split}\"],[\"0\",\"@{A_0}\"]]},\"id\":\"3199\",\"type\":\"HoverTool\"},{\"attributes\":{\"bottom\":{\"value\":0},\"fill_alpha\":{\"value\":0.8},\"fill_color\":{\"value\":\"#30a2da\"},\"hatch_alpha\":{\"value\":0.8},\"hatch_color\":{\"value\":\"#30a2da\"},\"hatch_scale\":{\"value\":12.0},\"hatch_weight\":{\"value\":1.0},\"line_alpha\":{\"value\":0.8},\"line_cap\":{\"value\":\"butt\"},\"line_color\":{\"value\":\"black\"},\"line_dash\":{\"value\":[]},\"line_dash_offset\":{\"value\":0},\"line_join\":{\"value\":\"bevel\"},\"line_width\":{\"value\":1},\"top\":{\"field\":\"A_0\"},\"width\":{\"value\":0.8},\"x\":{\"field\":\"new_split\"}},\"id\":\"3257\",\"type\":\"VBar\"},{\"attributes\":{\"callback\":null,\"renderers\":[{\"id\":\"3264\"}],\"tags\":[\"hv_created\"],\"tooltips\":[[\"org_split\",\"@{org_split}\"],[\"0\",\"@{A_0}\"]]},\"id\":\"3200\",\"type\":\"HoverTool\"},{\"attributes\":{\"below\":[{\"id\":\"3210\"}],\"center\":[{\"id\":\"3212\"},{\"id\":\"3216\"}],\"height\":300,\"left\":[{\"id\":\"3213\"}],\"margin\":[5,5,5,5],\"min_border_bottom\":10,\"min_border_left\":10,\"min_border_right\":10,\"min_border_top\":10,\"renderers\":[{\"id\":\"3243\"},{\"id\":\"3264\"}],\"right\":[{\"id\":\"3255\"}],\"sizing_mode\":\"fixed\",\"title\":{\"id\":\"3202\"},\"toolbar\":{\"id\":\"3223\"},\"width\":700,\"x_range\":{\"id\":\"3197\"},\"x_scale\":{\"id\":\"3206\"},\"y_range\":{\"id\":\"3198\"},\"y_scale\":{\"id\":\"3208\"}},\"id\":\"3201\",\"subtype\":\"Figure\",\"type\":\"Plot\"},{\"attributes\":{\"coordinates\":null,\"group\":null,\"text\":\"0\",\"text_color\":\"black\",\"text_font_size\":\"12pt\"},\"id\":\"3202\",\"type\":\"Title\"},{\"attributes\":{\"tools\":[{\"id\":\"3199\"},{\"id\":\"3200\"},{\"id\":\"3217\"},{\"id\":\"3218\"},{\"id\":\"3219\"},{\"id\":\"3220\"},{\"id\":\"3221\"}]},\"id\":\"3223\",\"type\":\"Toolbar\"},{\"attributes\":{\"axis_label\":\"new_split\",\"coordinates\":null,\"formatter\":{\"id\":\"3232\"},\"group\":null,\"major_label_policy\":{\"id\":\"3233\"},\"ticker\":{\"id\":\"3211\"}},\"id\":\"3210\",\"type\":\"CategoricalAxis\"},{\"attributes\":{\"axis\":{\"id\":\"3210\"},\"coordinates\":null,\"grid_line_color\":null,\"group\":null,\"ticker\":null},\"id\":\"3212\",\"type\":\"Grid\"},{\"attributes\":{},\"id\":\"3218\",\"type\":\"PanTool\"},{\"attributes\":{},\"id\":\"3211\",\"type\":\"CategoricalTicker\"},{\"attributes\":{},\"id\":\"3233\",\"type\":\"AllLabels\"},{\"attributes\":{\"axis_label\":\"\",\"coordinates\":null,\"formatter\":{\"id\":\"3235\"},\"group\":null,\"major_label_policy\":{\"id\":\"3236\"},\"ticker\":{\"id\":\"3214\"}},\"id\":\"3213\",\"type\":\"LinearAxis\"},{\"attributes\":{\"axis\":{\"id\":\"3213\"},\"coordinates\":null,\"dimension\":1,\"grid_line_color\":null,\"group\":null,\"ticker\":null},\"id\":\"3216\",\"type\":\"Grid\"},{\"attributes\":{},\"id\":\"3214\",\"type\":\"BasicTicker\"},{\"attributes\":{},\"id\":\"3219\",\"type\":\"WheelZoomTool\"},{\"attributes\":{\"end\":187.7,\"reset_end\":187.7,\"reset_start\":0.0,\"tags\":[[[\"0\",\"0\",null]]]},\"id\":\"3198\",\"type\":\"Range1d\"},{\"attributes\":{\"children\":[{\"id\":\"3196\"},{\"id\":\"3201\"},{\"id\":\"3291\"}],\"margin\":[0,0,0,0],\"name\":\"Row09398\",\"tags\":[\"embedded\"]},\"id\":\"3195\",\"type\":\"Row\"},{\"attributes\":{},\"id\":\"3235\",\"type\":\"BasicTickFormatter\"},{\"attributes\":{\"margin\":[5,5,5,5],\"name\":\"HSpacer09402\",\"sizing_mode\":\"stretch_width\"},\"id\":\"3196\",\"type\":\"Spacer\"},{\"attributes\":{},\"id\":\"3217\",\"type\":\"SaveTool\"},{\"attributes\":{},\"id\":\"3236\",\"type\":\"AllLabels\"},{\"attributes\":{\"fill_alpha\":{\"value\":0.2},\"fill_color\":{\"value\":\"#fc4f30\"},\"hatch_alpha\":{\"value\":0.2},\"hatch_color\":{\"value\":\"#fc4f30\"},\"line_alpha\":{\"value\":0.2},\"top\":{\"field\":\"A_0\"},\"width\":{\"value\":0.8},\"x\":{\"field\":\"org_split\"}},\"id\":\"3263\",\"type\":\"VBar\"},{\"attributes\":{\"factors\":[\"1\",\"2\",\"3\",\"4\",\"5\",\"6\",\"7\",\"8\",\"9\",\"10\",\"11\",\"12\",\"13\",\"14\",\"15\",\"16\",\"17\",\"18\",\"19\",\"20\",\"21\",\"22\",\"23\",\"24\",\"25\",\"26\",\"27\",\"28\",\"29\",\"30\",\"31\",\"32\",\"33\",\"34\",\"35\",\"36\",\"37\",\"38\",\"39\",\"40\",\"41\"],\"tags\":[[[\"new_split\",\"new_split\",null]]]},\"id\":\"3197\",\"type\":\"FactorRange\"},{\"attributes\":{},\"id\":\"3259\",\"type\":\"Selection\"},{\"attributes\":{\"overlay\":{\"id\":\"3222\"}},\"id\":\"3220\",\"type\":\"BoxZoomTool\"},{\"attributes\":{},\"id\":\"3221\",\"type\":\"ResetTool\"},{\"attributes\":{\"bottom\":{\"value\":0},\"fill_alpha\":{\"value\":0.8},\"fill_color\":{\"value\":\"#fc4f30\"},\"hatch_alpha\":{\"value\":0.8},\"hatch_color\":{\"value\":\"#fc4f30\"},\"hatch_scale\":{\"value\":12.0},\"hatch_weight\":{\"value\":1.0},\"line_alpha\":{\"value\":0.8},\"line_cap\":{\"value\":\"butt\"},\"line_color\":{\"value\":\"black\"},\"line_dash\":{\"value\":[]},\"line_dash_offset\":{\"value\":0},\"line_join\":{\"value\":\"bevel\"},\"line_width\":{\"value\":1},\"top\":{\"field\":\"A_0\"},\"width\":{\"value\":0.8},\"x\":{\"field\":\"org_split\"}},\"id\":\"3278\",\"type\":\"VBar\"},{\"attributes\":{\"bottom_units\":\"screen\",\"coordinates\":null,\"fill_alpha\":0.5,\"fill_color\":\"lightgrey\",\"group\":null,\"left_units\":\"screen\",\"level\":\"overlay\",\"line_alpha\":1.0,\"line_color\":\"black\",\"line_dash\":[4,4],\"line_width\":2,\"right_units\":\"screen\",\"syncable\":false,\"top_units\":\"screen\"},\"id\":\"3222\",\"type\":\"BoxAnnotation\"}],\"root_ids\":[\"3195\"]},\"title\":\"Bokeh Application\",\"version\":\"2.4.3\"}};\n",
       "    var render_items = [{\"docid\":\"982399ce-88c6-4da3-84b1-da1032ec2a41\",\"root_ids\":[\"3195\"],\"roots\":{\"3195\":\"04e8f527-d3c3-4ea2-91e8-ba76b45697df\"}}];\n",
       "    root.Bokeh.embed.embed_items_notebook(docs_json, render_items);\n",
       "  }\n",
       "  if (root.Bokeh !== undefined && root.Bokeh.Panel !== undefined) {\n",
       "    embed_document(root);\n",
       "  } else {\n",
       "    var attempts = 0;\n",
       "    var timer = setInterval(function(root) {\n",
       "      if (root.Bokeh !== undefined && root.Bokeh.Panel !== undefined) {\n",
       "        clearInterval(timer);\n",
       "        embed_document(root);\n",
       "      } else if (document.readyState == \"complete\") {\n",
       "        attempts++;\n",
       "        if (attempts > 200) {\n",
       "          clearInterval(timer);\n",
       "          console.log(\"Bokeh: ERROR: Unable to run BokehJS code because BokehJS library is missing\");\n",
       "        }\n",
       "      }\n",
       "    }, 25, root)\n",
       "  }\n",
       "})(window);</script>"
      ],
      "text/plain": [
       ":Overlay\n",
       "   .Bars.A_0.I  :Bars   [new_split]   (0)\n",
       "   .Bars.A_0.II :Bars   [org_split]   (0)"
      ]
     },
     "execution_count": 39,
     "metadata": {
      "application/vnd.holoviews_exec.v0+json": {
       "id": "3195"
      }
     },
     "output_type": "execute_result"
    }
   ],
   "source": [
    "THRESHOLD = 100 # Only shard participants larger than this\n",
    "CUTS = 10 # Number of shards\n",
    "\n",
    "to_be_split = df.groupby('Partition_ID').filter(lambda x: len(x) >THRESHOLD)\n",
    "\n",
    "to_be_split['new_split'] = to_be_split['Partition_ID'].to_numpy() + \\\n",
    "                            (to_be_split.\n",
    "                            groupby('Partition_ID')['Volume'].\n",
    "                            apply(lambda x: pd.qcut(x, CUTS, labels=range(CUTS))).\n",
    "                            to_numpy())\n",
    "\n",
    "# hacky way that assumes part. 1 (the largest) is sharded\n",
    "to_be_split.loc[to_be_split['Partition_ID'].ge(2), ['new_split']] += CUTS - 1 \n",
    "\n",
    "df['new_split'] = df['Partition_ID']\n",
    "df.loc[df['Partition_ID'].ge(2), ['new_split']] += CUTS - 1 # 2,19 change base on threshold\n",
    "df.loc[df['Partition_ID'].ge(19), ['new_split']] += CUTS - 1                            \n",
    "\n",
    "df.loc[df.Subject_ID.isin(to_be_split.Subject_ID), ['new_split']] = to_be_split[['new_split']]\n",
    "\n",
    "df.groupby('new_split').size().plot(kind='bar', alpha=0.8) \\\n",
    "* df.groupby('org_split').size().plot(kind='bar', alpha=0.8)"
   ]
  },
  {
   "cell_type": "code",
   "execution_count": null,
   "metadata": {},
   "outputs": [],
   "source": [
    "if os.path.isfile(f\"{data_path}/new_split.csv\"):\n",
    "    print('Name/file exists, avoiding overwrite!')\n",
    "else:\n",
    "    df[['Subject_ID', 'new_split']].to_csv(f\"{data_path}/new_split.csv\",index=False)"
   ]
  },
  {
   "cell_type": "markdown",
   "metadata": {},
   "source": [
    "# Prototyping Split\n",
    "- Includes intact original collaborators with 10-30 patients\n",
    "- 7 collaborators\n",
    "- 117 patients (~10% of original)"
   ]
  },
  {
   "cell_type": "code",
   "execution_count": 40,
   "metadata": {},
   "outputs": [
    {
     "name": "stdout",
     "output_type": "stream",
     "text": [
      "Name/file exists, avoiding overwrite!\n"
     ]
    },
    {
     "data": {},
     "metadata": {},
     "output_type": "display_data"
    },
    {
     "data": {
      "application/vnd.holoviews_exec.v0+json": "",
      "text/html": [
       "<div id='3353'>\n",
       "  <div class=\"bk-root\" id=\"02e7b644-8c76-4045-8d3c-f832638f81b6\" data-root-id=\"3353\"></div>\n",
       "</div>\n",
       "<script type=\"application/javascript\">(function(root) {\n",
       "  function embed_document(root) {\n",
       "    var docs_json = {\"8e6ee4c9-2c79-4f6b-be67-f5217451ccfe\":{\"defs\":[{\"extends\":null,\"module\":null,\"name\":\"ReactiveHTML1\",\"overrides\":[],\"properties\":[]},{\"extends\":null,\"module\":null,\"name\":\"FlexBox1\",\"overrides\":[],\"properties\":[{\"default\":\"flex-start\",\"kind\":null,\"name\":\"align_content\"},{\"default\":\"flex-start\",\"kind\":null,\"name\":\"align_items\"},{\"default\":\"row\",\"kind\":null,\"name\":\"flex_direction\"},{\"default\":\"wrap\",\"kind\":null,\"name\":\"flex_wrap\"},{\"default\":\"flex-start\",\"kind\":null,\"name\":\"justify_content\"}]},{\"extends\":null,\"module\":null,\"name\":\"GridStack1\",\"overrides\":[],\"properties\":[{\"default\":\"warn\",\"kind\":null,\"name\":\"mode\"},{\"default\":null,\"kind\":null,\"name\":\"ncols\"},{\"default\":null,\"kind\":null,\"name\":\"nrows\"},{\"default\":true,\"kind\":null,\"name\":\"allow_resize\"},{\"default\":true,\"kind\":null,\"name\":\"allow_drag\"},{\"default\":[],\"kind\":null,\"name\":\"state\"}]},{\"extends\":null,\"module\":null,\"name\":\"click1\",\"overrides\":[],\"properties\":[{\"default\":\"\",\"kind\":null,\"name\":\"terminal_output\"},{\"default\":\"\",\"kind\":null,\"name\":\"debug_name\"},{\"default\":0,\"kind\":null,\"name\":\"clears\"}]},{\"extends\":null,\"module\":null,\"name\":\"NotificationAreaBase1\",\"overrides\":[],\"properties\":[{\"default\":\"bottom-right\",\"kind\":null,\"name\":\"position\"},{\"default\":0,\"kind\":null,\"name\":\"_clear\"}]},{\"extends\":null,\"module\":null,\"name\":\"NotificationArea1\",\"overrides\":[],\"properties\":[{\"default\":[],\"kind\":null,\"name\":\"notifications\"},{\"default\":\"bottom-right\",\"kind\":null,\"name\":\"position\"},{\"default\":0,\"kind\":null,\"name\":\"_clear\"},{\"default\":[{\"background\":\"#ffc107\",\"icon\":{\"className\":\"fas fa-exclamation-triangle\",\"color\":\"white\",\"tagName\":\"i\"},\"type\":\"warning\"},{\"background\":\"#007bff\",\"icon\":{\"className\":\"fas fa-info-circle\",\"color\":\"white\",\"tagName\":\"i\"},\"type\":\"info\"}],\"kind\":null,\"name\":\"types\"}]},{\"extends\":null,\"module\":null,\"name\":\"Notification\",\"overrides\":[],\"properties\":[{\"default\":null,\"kind\":null,\"name\":\"background\"},{\"default\":3000,\"kind\":null,\"name\":\"duration\"},{\"default\":null,\"kind\":null,\"name\":\"icon\"},{\"default\":\"\",\"kind\":null,\"name\":\"message\"},{\"default\":null,\"kind\":null,\"name\":\"notification_type\"},{\"default\":false,\"kind\":null,\"name\":\"_destroyed\"}]},{\"extends\":null,\"module\":null,\"name\":\"TemplateActions1\",\"overrides\":[],\"properties\":[{\"default\":0,\"kind\":null,\"name\":\"open_modal\"},{\"default\":0,\"kind\":null,\"name\":\"close_modal\"}]},{\"extends\":null,\"module\":null,\"name\":\"MaterialTemplateActions1\",\"overrides\":[],\"properties\":[{\"default\":0,\"kind\":null,\"name\":\"open_modal\"},{\"default\":0,\"kind\":null,\"name\":\"close_modal\"}]}],\"roots\":{\"references\":[{\"attributes\":{},\"id\":\"3376\",\"type\":\"WheelZoomTool\"},{\"attributes\":{\"coordinates\":null,\"data_source\":{\"id\":\"3387\"},\"glyph\":{\"id\":\"3390\"},\"group\":null,\"hover_glyph\":null,\"muted_glyph\":{\"id\":\"3392\"},\"nonselection_glyph\":{\"id\":\"3391\"},\"selection_glyph\":{\"id\":\"3395\"},\"view\":{\"id\":\"3394\"}},\"id\":\"3393\",\"type\":\"GlyphRenderer\"},{\"attributes\":{\"margin\":[5,5,5,5],\"name\":\"HSpacer09533\",\"sizing_mode\":\"stretch_width\"},\"id\":\"3412\",\"type\":\"Spacer\"},{\"attributes\":{\"callback\":null,\"renderers\":[{\"id\":\"3393\"}],\"tags\":[\"hv_created\"],\"tooltips\":[[\"Partition_ID\",\"@{Partition_ID}\"],[\"0\",\"@{A_0}\"]]},\"id\":\"3357\",\"type\":\"HoverTool\"},{\"attributes\":{\"bottom_units\":\"screen\",\"coordinates\":null,\"fill_alpha\":0.5,\"fill_color\":\"lightgrey\",\"group\":null,\"left_units\":\"screen\",\"level\":\"overlay\",\"line_alpha\":1.0,\"line_color\":\"black\",\"line_dash\":[4,4],\"line_width\":2,\"right_units\":\"screen\",\"syncable\":false,\"top_units\":\"screen\"},\"id\":\"3379\",\"type\":\"BoxAnnotation\"},{\"attributes\":{\"margin\":[5,5,5,5],\"name\":\"HSpacer09532\",\"sizing_mode\":\"stretch_width\"},\"id\":\"3354\",\"type\":\"Spacer\"},{\"attributes\":{\"overlay\":{\"id\":\"3379\"}},\"id\":\"3377\",\"type\":\"BoxZoomTool\"},{\"attributes\":{},\"id\":\"3374\",\"type\":\"SaveTool\"},{\"attributes\":{},\"id\":\"3400\",\"type\":\"BasicTickFormatter\"},{\"attributes\":{\"below\":[{\"id\":\"3367\"}],\"center\":[{\"id\":\"3369\"},{\"id\":\"3373\"}],\"height\":300,\"left\":[{\"id\":\"3370\"}],\"margin\":[5,5,5,5],\"min_border_bottom\":10,\"min_border_left\":10,\"min_border_right\":10,\"min_border_top\":10,\"renderers\":[{\"id\":\"3393\"}],\"sizing_mode\":\"fixed\",\"title\":{\"id\":\"3359\"},\"toolbar\":{\"id\":\"3380\"},\"width\":700,\"x_range\":{\"id\":\"3355\"},\"x_scale\":{\"id\":\"3363\"},\"y_range\":{\"id\":\"3356\"},\"y_scale\":{\"id\":\"3365\"}},\"id\":\"3358\",\"subtype\":\"Figure\",\"type\":\"Plot\"},{\"attributes\":{\"tools\":[{\"id\":\"3357\"},{\"id\":\"3374\"},{\"id\":\"3375\"},{\"id\":\"3376\"},{\"id\":\"3377\"},{\"id\":\"3378\"}]},\"id\":\"3380\",\"type\":\"Toolbar\"},{\"attributes\":{\"end\":31.9,\"reset_end\":31.9,\"reset_start\":0.0,\"tags\":[[[\"0\",\"0\",null]]]},\"id\":\"3356\",\"type\":\"Range1d\"},{\"attributes\":{},\"id\":\"3397\",\"type\":\"CategoricalTickFormatter\"},{\"attributes\":{\"coordinates\":null,\"group\":null,\"text\":\"0\",\"text_color\":\"black\",\"text_font_size\":\"12pt\"},\"id\":\"3359\",\"type\":\"Title\"},{\"attributes\":{\"bottom\":{\"value\":0},\"fill_alpha\":{\"value\":1.0},\"fill_color\":{\"value\":\"#30a2da\"},\"hatch_alpha\":{\"value\":1.0},\"hatch_color\":{\"value\":\"#30a2da\"},\"hatch_scale\":{\"value\":12.0},\"hatch_weight\":{\"value\":1.0},\"line_alpha\":{\"value\":1.0},\"line_cap\":{\"value\":\"butt\"},\"line_color\":{\"value\":\"black\"},\"line_dash\":{\"value\":[]},\"line_dash_offset\":{\"value\":0},\"line_join\":{\"value\":\"bevel\"},\"line_width\":{\"value\":1},\"top\":{\"field\":\"A_0\"},\"width\":{\"value\":0.8},\"x\":{\"field\":\"Partition_ID\"}},\"id\":\"3395\",\"type\":\"VBar\"},{\"attributes\":{\"children\":[{\"id\":\"3354\"},{\"id\":\"3358\"},{\"id\":\"3412\"}],\"margin\":[0,0,0,0],\"name\":\"Row09528\",\"tags\":[\"embedded\"]},\"id\":\"3353\",\"type\":\"Row\"},{\"attributes\":{\"factors\":[\"3\",\"5\",\"7\",\"11\",\"12\",\"15\",\"16\"],\"tags\":[[[\"Partition_ID\",\"Partition_ID\",null]]]},\"id\":\"3355\",\"type\":\"FactorRange\"},{\"attributes\":{},\"id\":\"3363\",\"type\":\"CategoricalScale\"},{\"attributes\":{},\"id\":\"3365\",\"type\":\"LinearScale\"},{\"attributes\":{\"fill_color\":{\"value\":\"#30a2da\"},\"hatch_color\":{\"value\":\"#30a2da\"},\"top\":{\"field\":\"A_0\"},\"width\":{\"value\":0.8},\"x\":{\"field\":\"Partition_ID\"}},\"id\":\"3390\",\"type\":\"VBar\"},{\"attributes\":{\"axis_label\":\"Partition_ID\",\"coordinates\":null,\"formatter\":{\"id\":\"3397\"},\"group\":null,\"major_label_policy\":{\"id\":\"3398\"},\"ticker\":{\"id\":\"3368\"}},\"id\":\"3367\",\"type\":\"CategoricalAxis\"},{\"attributes\":{},\"id\":\"3378\",\"type\":\"ResetTool\"},{\"attributes\":{\"source\":{\"id\":\"3387\"}},\"id\":\"3394\",\"type\":\"CDSView\"},{\"attributes\":{},\"id\":\"3401\",\"type\":\"AllLabels\"},{\"attributes\":{},\"id\":\"3409\",\"type\":\"UnionRenderers\"},{\"attributes\":{\"data\":{\"A_0\":[15,22,12,14,11,13,30],\"Partition_ID\":[\"3\",\"5\",\"7\",\"11\",\"12\",\"15\",\"16\"]},\"selected\":{\"id\":\"3388\"},\"selection_policy\":{\"id\":\"3409\"}},\"id\":\"3387\",\"type\":\"ColumnDataSource\"},{\"attributes\":{},\"id\":\"3398\",\"type\":\"AllLabels\"},{\"attributes\":{\"fill_alpha\":{\"value\":0.1},\"fill_color\":{\"value\":\"#30a2da\"},\"hatch_alpha\":{\"value\":0.1},\"hatch_color\":{\"value\":\"#30a2da\"},\"line_alpha\":{\"value\":0.1},\"top\":{\"field\":\"A_0\"},\"width\":{\"value\":0.8},\"x\":{\"field\":\"Partition_ID\"}},\"id\":\"3391\",\"type\":\"VBar\"},{\"attributes\":{},\"id\":\"3368\",\"type\":\"CategoricalTicker\"},{\"attributes\":{},\"id\":\"3375\",\"type\":\"PanTool\"},{\"attributes\":{},\"id\":\"3388\",\"type\":\"Selection\"},{\"attributes\":{\"axis\":{\"id\":\"3367\"},\"coordinates\":null,\"grid_line_color\":null,\"group\":null,\"ticker\":null},\"id\":\"3369\",\"type\":\"Grid\"},{\"attributes\":{},\"id\":\"3371\",\"type\":\"BasicTicker\"},{\"attributes\":{\"axis\":{\"id\":\"3370\"},\"coordinates\":null,\"dimension\":1,\"grid_line_color\":null,\"group\":null,\"ticker\":null},\"id\":\"3373\",\"type\":\"Grid\"},{\"attributes\":{\"axis_label\":\"Patients\",\"coordinates\":null,\"formatter\":{\"id\":\"3400\"},\"group\":null,\"major_label_policy\":{\"id\":\"3401\"},\"ticker\":{\"id\":\"3371\"}},\"id\":\"3370\",\"type\":\"LinearAxis\"},{\"attributes\":{\"fill_alpha\":{\"value\":0.2},\"fill_color\":{\"value\":\"#30a2da\"},\"hatch_alpha\":{\"value\":0.2},\"hatch_color\":{\"value\":\"#30a2da\"},\"line_alpha\":{\"value\":0.2},\"top\":{\"field\":\"A_0\"},\"width\":{\"value\":0.8},\"x\":{\"field\":\"Partition_ID\"}},\"id\":\"3392\",\"type\":\"VBar\"}],\"root_ids\":[\"3353\"]},\"title\":\"Bokeh Application\",\"version\":\"2.4.3\"}};\n",
       "    var render_items = [{\"docid\":\"8e6ee4c9-2c79-4f6b-be67-f5217451ccfe\",\"root_ids\":[\"3353\"],\"roots\":{\"3353\":\"02e7b644-8c76-4045-8d3c-f832638f81b6\"}}];\n",
       "    root.Bokeh.embed.embed_items_notebook(docs_json, render_items);\n",
       "  }\n",
       "  if (root.Bokeh !== undefined && root.Bokeh.Panel !== undefined) {\n",
       "    embed_document(root);\n",
       "  } else {\n",
       "    var attempts = 0;\n",
       "    var timer = setInterval(function(root) {\n",
       "      if (root.Bokeh !== undefined && root.Bokeh.Panel !== undefined) {\n",
       "        clearInterval(timer);\n",
       "        embed_document(root);\n",
       "      } else if (document.readyState == \"complete\") {\n",
       "        attempts++;\n",
       "        if (attempts > 200) {\n",
       "          clearInterval(timer);\n",
       "          console.log(\"Bokeh: ERROR: Unable to run BokehJS code because BokehJS library is missing\");\n",
       "        }\n",
       "      }\n",
       "    }, 25, root)\n",
       "  }\n",
       "})(window);</script>"
      ],
      "text/plain": [
       ":Bars   [Partition_ID]   (0)"
      ]
     },
     "execution_count": 40,
     "metadata": {
      "application/vnd.holoviews_exec.v0+json": {
       "id": "3353"
      }
     },
     "output_type": "execute_result"
    }
   ],
   "source": [
    "tmp = df.groupby('Partition_ID').filter(lambda x: (len(x)>9) & (len(x)<31))\n",
    "\n",
    "if os.path.isfile(f\"{data_path}/prototyping_split.csv\"):\n",
    "    print('Name/file exists, avoiding overwrite!')\n",
    "else:\n",
    "    tmp[['Subject_ID', 'Partition_ID']].to_csv(f\"{data_path}/prototyping_split.csv\",index=False)\n",
    "    \n",
    "tmp.groupby('Partition_ID').size().plot(kind='bar', ylabel='Patients')"
   ]
  },
  {
   "cell_type": "markdown",
   "metadata": {},
   "source": [
    "# Medium split\n",
    "- Split largest two collaborators to 10 each by tumor volume\n",
    "- Only use the 2 middle bins for each + all other collaborators \n",
    "- 25 collaborators\n",
    "- 536 patients (~42% of original)"
   ]
  },
  {
   "cell_type": "code",
   "execution_count": 43,
   "metadata": {},
   "outputs": [
    {
     "name": "stdout",
     "output_type": "stream",
     "text": [
      "Name/file exists, avoiding overwrite!\n"
     ]
    },
    {
     "data": {},
     "metadata": {},
     "output_type": "display_data"
    },
    {
     "data": {
      "application/vnd.holoviews_exec.v0+json": "",
      "text/html": [
       "<div id='3686'>\n",
       "  <div class=\"bk-root\" id=\"cd6ad210-eab5-4ad1-adcb-e66c52c1af1d\" data-root-id=\"3686\"></div>\n",
       "</div>\n",
       "<script type=\"application/javascript\">(function(root) {\n",
       "  function embed_document(root) {\n",
       "    var docs_json = {\"873ee3a5-34c1-4e04-a43a-40a39c8ca9b2\":{\"defs\":[{\"extends\":null,\"module\":null,\"name\":\"ReactiveHTML1\",\"overrides\":[],\"properties\":[]},{\"extends\":null,\"module\":null,\"name\":\"FlexBox1\",\"overrides\":[],\"properties\":[{\"default\":\"flex-start\",\"kind\":null,\"name\":\"align_content\"},{\"default\":\"flex-start\",\"kind\":null,\"name\":\"align_items\"},{\"default\":\"row\",\"kind\":null,\"name\":\"flex_direction\"},{\"default\":\"wrap\",\"kind\":null,\"name\":\"flex_wrap\"},{\"default\":\"flex-start\",\"kind\":null,\"name\":\"justify_content\"}]},{\"extends\":null,\"module\":null,\"name\":\"GridStack1\",\"overrides\":[],\"properties\":[{\"default\":\"warn\",\"kind\":null,\"name\":\"mode\"},{\"default\":null,\"kind\":null,\"name\":\"ncols\"},{\"default\":null,\"kind\":null,\"name\":\"nrows\"},{\"default\":true,\"kind\":null,\"name\":\"allow_resize\"},{\"default\":true,\"kind\":null,\"name\":\"allow_drag\"},{\"default\":[],\"kind\":null,\"name\":\"state\"}]},{\"extends\":null,\"module\":null,\"name\":\"click1\",\"overrides\":[],\"properties\":[{\"default\":\"\",\"kind\":null,\"name\":\"terminal_output\"},{\"default\":\"\",\"kind\":null,\"name\":\"debug_name\"},{\"default\":0,\"kind\":null,\"name\":\"clears\"}]},{\"extends\":null,\"module\":null,\"name\":\"NotificationAreaBase1\",\"overrides\":[],\"properties\":[{\"default\":\"bottom-right\",\"kind\":null,\"name\":\"position\"},{\"default\":0,\"kind\":null,\"name\":\"_clear\"}]},{\"extends\":null,\"module\":null,\"name\":\"NotificationArea1\",\"overrides\":[],\"properties\":[{\"default\":[],\"kind\":null,\"name\":\"notifications\"},{\"default\":\"bottom-right\",\"kind\":null,\"name\":\"position\"},{\"default\":0,\"kind\":null,\"name\":\"_clear\"},{\"default\":[{\"background\":\"#ffc107\",\"icon\":{\"className\":\"fas fa-exclamation-triangle\",\"color\":\"white\",\"tagName\":\"i\"},\"type\":\"warning\"},{\"background\":\"#007bff\",\"icon\":{\"className\":\"fas fa-info-circle\",\"color\":\"white\",\"tagName\":\"i\"},\"type\":\"info\"}],\"kind\":null,\"name\":\"types\"}]},{\"extends\":null,\"module\":null,\"name\":\"Notification\",\"overrides\":[],\"properties\":[{\"default\":null,\"kind\":null,\"name\":\"background\"},{\"default\":3000,\"kind\":null,\"name\":\"duration\"},{\"default\":null,\"kind\":null,\"name\":\"icon\"},{\"default\":\"\",\"kind\":null,\"name\":\"message\"},{\"default\":null,\"kind\":null,\"name\":\"notification_type\"},{\"default\":false,\"kind\":null,\"name\":\"_destroyed\"}]},{\"extends\":null,\"module\":null,\"name\":\"TemplateActions1\",\"overrides\":[],\"properties\":[{\"default\":0,\"kind\":null,\"name\":\"open_modal\"},{\"default\":0,\"kind\":null,\"name\":\"close_modal\"}]},{\"extends\":null,\"module\":null,\"name\":\"MaterialTemplateActions1\",\"overrides\":[],\"properties\":[{\"default\":0,\"kind\":null,\"name\":\"open_modal\"},{\"default\":0,\"kind\":null,\"name\":\"close_modal\"}]}],\"roots\":{\"references\":[{\"attributes\":{\"axis_label\":\"Partition ID\",\"coordinates\":null,\"formatter\":{\"id\":\"3730\"},\"group\":null,\"major_label_policy\":{\"id\":\"3731\"},\"ticker\":{\"id\":\"3701\"}},\"id\":\"3700\",\"type\":\"CategoricalAxis\"},{\"attributes\":{\"coordinates\":null,\"group\":null,\"text\":\"0\",\"text_color\":\"black\",\"text_font_size\":\"12pt\"},\"id\":\"3692\",\"type\":\"Title\"},{\"attributes\":{\"data\":{\"A_0\":[51,51,6,15,47,22,34,12,8,4,8,14,11,35,6,13,30,9,38,38,4,33,35,7,5],\"new_split\":[\"5\",\"6\",\"11\",\"12\",\"13\",\"14\",\"15\",\"16\",\"17\",\"18\",\"19\",\"20\",\"21\",\"22\",\"23\",\"24\",\"25\",\"26\",\"31\",\"32\",\"37\",\"38\",\"39\",\"40\",\"41\"]},\"selected\":{\"id\":\"3721\"},\"selection_policy\":{\"id\":\"3742\"}},\"id\":\"3720\",\"type\":\"ColumnDataSource\"},{\"attributes\":{\"axis\":{\"id\":\"3700\"},\"coordinates\":null,\"grid_line_color\":null,\"group\":null,\"ticker\":null},\"id\":\"3702\",\"type\":\"Grid\"},{\"attributes\":{},\"id\":\"3708\",\"type\":\"PanTool\"},{\"attributes\":{},\"id\":\"3696\",\"type\":\"CategoricalScale\"},{\"attributes\":{},\"id\":\"3704\",\"type\":\"BasicTicker\"},{\"attributes\":{},\"id\":\"3734\",\"type\":\"AllLabels\"},{\"attributes\":{},\"id\":\"3721\",\"type\":\"Selection\"},{\"attributes\":{\"callback\":null,\"renderers\":[{\"id\":\"3726\"}],\"tags\":[\"hv_created\"],\"tooltips\":[[\"new_split\",\"@{new_split}\"],[\"0\",\"@{A_0}\"]]},\"id\":\"3690\",\"type\":\"HoverTool\"},{\"attributes\":{},\"id\":\"3731\",\"type\":\"AllLabels\"},{\"attributes\":{\"below\":[{\"id\":\"3700\"}],\"center\":[{\"id\":\"3702\"},{\"id\":\"3706\"}],\"height\":300,\"left\":[{\"id\":\"3703\"}],\"margin\":[5,5,5,5],\"min_border_bottom\":10,\"min_border_left\":10,\"min_border_right\":10,\"min_border_top\":10,\"renderers\":[{\"id\":\"3726\"}],\"sizing_mode\":\"fixed\",\"title\":{\"id\":\"3692\"},\"toolbar\":{\"id\":\"3713\"},\"width\":700,\"x_range\":{\"id\":\"3688\"},\"x_scale\":{\"id\":\"3696\"},\"y_range\":{\"id\":\"3689\"},\"y_scale\":{\"id\":\"3698\"}},\"id\":\"3691\",\"subtype\":\"Figure\",\"type\":\"Plot\"},{\"attributes\":{\"margin\":[5,5,5,5],\"name\":\"HSpacer09841\",\"sizing_mode\":\"stretch_width\"},\"id\":\"3687\",\"type\":\"Spacer\"},{\"attributes\":{},\"id\":\"3701\",\"type\":\"CategoricalTicker\"},{\"attributes\":{\"children\":[{\"id\":\"3687\"},{\"id\":\"3691\"},{\"id\":\"3745\"}],\"margin\":[0,0,0,0],\"name\":\"Row09837\",\"tags\":[\"embedded\"]},\"id\":\"3686\",\"type\":\"Row\"},{\"attributes\":{\"fill_color\":{\"value\":\"#30a2da\"},\"hatch_color\":{\"value\":\"#30a2da\"},\"top\":{\"field\":\"A_0\"},\"width\":{\"value\":0.8},\"x\":{\"field\":\"new_split\"}},\"id\":\"3723\",\"type\":\"VBar\"},{\"attributes\":{\"axis_label\":\"Patients\",\"coordinates\":null,\"formatter\":{\"id\":\"3733\"},\"group\":null,\"major_label_policy\":{\"id\":\"3734\"},\"ticker\":{\"id\":\"3704\"}},\"id\":\"3703\",\"type\":\"LinearAxis\"},{\"attributes\":{},\"id\":\"3742\",\"type\":\"UnionRenderers\"},{\"attributes\":{},\"id\":\"3698\",\"type\":\"LinearScale\"},{\"attributes\":{\"axis\":{\"id\":\"3703\"},\"coordinates\":null,\"dimension\":1,\"grid_line_color\":null,\"group\":null,\"ticker\":null},\"id\":\"3706\",\"type\":\"Grid\"},{\"attributes\":{\"fill_alpha\":{\"value\":0.1},\"fill_color\":{\"value\":\"#30a2da\"},\"hatch_alpha\":{\"value\":0.1},\"hatch_color\":{\"value\":\"#30a2da\"},\"line_alpha\":{\"value\":0.1},\"top\":{\"field\":\"A_0\"},\"width\":{\"value\":0.8},\"x\":{\"field\":\"new_split\"}},\"id\":\"3724\",\"type\":\"VBar\"},{\"attributes\":{\"factors\":[\"5\",\"6\",\"11\",\"12\",\"13\",\"14\",\"15\",\"16\",\"17\",\"18\",\"19\",\"20\",\"21\",\"22\",\"23\",\"24\",\"25\",\"26\",\"31\",\"32\",\"37\",\"38\",\"39\",\"40\",\"41\"],\"tags\":[[[\"new_split\",\"new_split\",null]]]},\"id\":\"3688\",\"type\":\"FactorRange\"},{\"attributes\":{},\"id\":\"3709\",\"type\":\"WheelZoomTool\"},{\"attributes\":{\"margin\":[5,5,5,5],\"name\":\"HSpacer09842\",\"sizing_mode\":\"stretch_width\"},\"id\":\"3745\",\"type\":\"Spacer\"},{\"attributes\":{\"source\":{\"id\":\"3720\"}},\"id\":\"3727\",\"type\":\"CDSView\"},{\"attributes\":{},\"id\":\"3707\",\"type\":\"SaveTool\"},{\"attributes\":{\"fill_alpha\":{\"value\":0.2},\"fill_color\":{\"value\":\"#30a2da\"},\"hatch_alpha\":{\"value\":0.2},\"hatch_color\":{\"value\":\"#30a2da\"},\"line_alpha\":{\"value\":0.2},\"top\":{\"field\":\"A_0\"},\"width\":{\"value\":0.8},\"x\":{\"field\":\"new_split\"}},\"id\":\"3725\",\"type\":\"VBar\"},{\"attributes\":{\"overlay\":{\"id\":\"3712\"}},\"id\":\"3710\",\"type\":\"BoxZoomTool\"},{\"attributes\":{\"coordinates\":null,\"data_source\":{\"id\":\"3720\"},\"glyph\":{\"id\":\"3723\"},\"group\":null,\"hover_glyph\":null,\"muted_glyph\":{\"id\":\"3725\"},\"nonselection_glyph\":{\"id\":\"3724\"},\"selection_glyph\":{\"id\":\"3728\"},\"view\":{\"id\":\"3727\"}},\"id\":\"3726\",\"type\":\"GlyphRenderer\"},{\"attributes\":{},\"id\":\"3711\",\"type\":\"ResetTool\"},{\"attributes\":{\"bottom\":{\"value\":0},\"fill_alpha\":{\"value\":1.0},\"fill_color\":{\"value\":\"#30a2da\"},\"hatch_alpha\":{\"value\":1.0},\"hatch_color\":{\"value\":\"#30a2da\"},\"hatch_scale\":{\"value\":12.0},\"hatch_weight\":{\"value\":1.0},\"line_alpha\":{\"value\":1.0},\"line_cap\":{\"value\":\"butt\"},\"line_color\":{\"value\":\"black\"},\"line_dash\":{\"value\":[]},\"line_dash_offset\":{\"value\":0},\"line_join\":{\"value\":\"bevel\"},\"line_width\":{\"value\":1},\"top\":{\"field\":\"A_0\"},\"width\":{\"value\":0.8},\"x\":{\"field\":\"new_split\"}},\"id\":\"3728\",\"type\":\"VBar\"},{\"attributes\":{\"end\":55.7,\"reset_end\":55.7,\"reset_start\":0.0,\"tags\":[[[\"0\",\"0\",null]]]},\"id\":\"3689\",\"type\":\"Range1d\"},{\"attributes\":{\"bottom_units\":\"screen\",\"coordinates\":null,\"fill_alpha\":0.5,\"fill_color\":\"lightgrey\",\"group\":null,\"left_units\":\"screen\",\"level\":\"overlay\",\"line_alpha\":1.0,\"line_color\":\"black\",\"line_dash\":[4,4],\"line_width\":2,\"right_units\":\"screen\",\"syncable\":false,\"top_units\":\"screen\"},\"id\":\"3712\",\"type\":\"BoxAnnotation\"},{\"attributes\":{},\"id\":\"3730\",\"type\":\"CategoricalTickFormatter\"},{\"attributes\":{\"tools\":[{\"id\":\"3690\"},{\"id\":\"3707\"},{\"id\":\"3708\"},{\"id\":\"3709\"},{\"id\":\"3710\"},{\"id\":\"3711\"}]},\"id\":\"3713\",\"type\":\"Toolbar\"},{\"attributes\":{},\"id\":\"3733\",\"type\":\"BasicTickFormatter\"}],\"root_ids\":[\"3686\"]},\"title\":\"Bokeh Application\",\"version\":\"2.4.3\"}};\n",
       "    var render_items = [{\"docid\":\"873ee3a5-34c1-4e04-a43a-40a39c8ca9b2\",\"root_ids\":[\"3686\"],\"roots\":{\"3686\":\"cd6ad210-eab5-4ad1-adcb-e66c52c1af1d\"}}];\n",
       "    root.Bokeh.embed.embed_items_notebook(docs_json, render_items);\n",
       "  }\n",
       "  if (root.Bokeh !== undefined && root.Bokeh.Panel !== undefined) {\n",
       "    embed_document(root);\n",
       "  } else {\n",
       "    var attempts = 0;\n",
       "    var timer = setInterval(function(root) {\n",
       "      if (root.Bokeh !== undefined && root.Bokeh.Panel !== undefined) {\n",
       "        clearInterval(timer);\n",
       "        embed_document(root);\n",
       "      } else if (document.readyState == \"complete\") {\n",
       "        attempts++;\n",
       "        if (attempts > 200) {\n",
       "          clearInterval(timer);\n",
       "          console.log(\"Bokeh: ERROR: Unable to run BokehJS code because BokehJS library is missing\");\n",
       "        }\n",
       "      }\n",
       "    }, 25, root)\n",
       "  }\n",
       "})(window);</script>"
      ],
      "text/plain": [
       ":Bars   [new_split]   (0)"
      ]
     },
     "execution_count": 43,
     "metadata": {
      "application/vnd.holoviews_exec.v0+json": {
       "id": "3686"
      }
     },
     "output_type": "execute_result"
    }
   ],
   "source": [
    "tmp2 = df[~df.new_split.isin([*range(5), *range(7, 11), *range(27, 31), *range(33, 37)])] \n",
    "\n",
    "if os.path.isfile(f\"{data_path}/medium_split.csv\"):\n",
    "    print('Name/file exists, avoiding overwrite!')\n",
    "else:\n",
    "    tmp2[['Subject_ID', 'Partition_ID']].to_csv(f\"{data_path}/medium_split.csv\",index=False)\n",
    "tmp2.groupby('new_split').size().plot(kind='bar', xlabel='Partition ID', ylabel='Patients')"
   ]
  }
 ],
 "metadata": {
  "kernelspec": {
   "display_name": "Python 3.8.13 64-bit",
   "language": "python",
   "name": "python3"
  },
  "language_info": {
   "codemirror_mode": {
    "name": "ipython",
    "version": 3
   },
   "file_extension": ".py",
   "mimetype": "text/x-python",
   "name": "python",
   "nbconvert_exporter": "python",
   "pygments_lexer": "ipython3",
   "version": "3.8.13"
  },
  "orig_nbformat": 4,
  "vscode": {
   "interpreter": {
    "hash": "90bd059e05f79fb9b7cf5d2b1dae6ea26ca779772e058f49dd8fbe1978749df0"
   }
  }
 },
 "nbformat": 4,
 "nbformat_minor": 2
}
